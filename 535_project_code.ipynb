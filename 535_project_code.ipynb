{
  "nbformat": 4,
  "nbformat_minor": 0,
  "metadata": {
    "colab": {
      "name": "535 project code.ipynb",
      "provenance": [],
      "authorship_tag": "ABX9TyO2yNLFVVwLaivqLfM1dKQe",
      "include_colab_link": true
    },
    "kernelspec": {
      "name": "python3",
      "display_name": "Python 3"
    },
    "language_info": {
      "name": "python"
    }
  },
  "cells": [
    {
      "cell_type": "markdown",
      "metadata": {
        "id": "view-in-github",
        "colab_type": "text"
      },
      "source": [
        "<a href=\"https://colab.research.google.com/github/AdityaSrinivasManohar/ROB-535-Perceprtion-Project/blob/main/535_project_code.ipynb\" target=\"_parent\"><img src=\"https://colab.research.google.com/assets/colab-badge.svg\" alt=\"Open In Colab\"/></a>"
      ]
    },
    {
      "cell_type": "markdown",
      "source": [
        "# 535 Perception Project \n",
        "**Team 8**\n",
        "\n",
        "**Members -**\n",
        "*   Aditya Srinivas Manohar\n",
        "*   Kavan Nishith Shah\n",
        "*   Maithili Jagadishchandra Shetty\n",
        "*   Manikandan Pandiyan \n",
        "*   Mohamad Louai Shehab \n",
        "*   Theodor Chakhachiro\n",
        "\n",
        "Please follow the steps as shown below to run the nueral network\n",
        "\n"
      ],
      "metadata": {
        "id": "UAbDFf_bzyaB"
      }
    },
    {
      "cell_type": "markdown",
      "source": [
        "# Step 1\n",
        "In your google drive, create a folder named **yolov4**\n",
        "To save the trained weights create another folder called **training** inside the yolov4 folder"
      ],
      "metadata": {
        "id": "ri5FE3qc071V"
      }
    },
    {
      "cell_type": "markdown",
      "source": [
        "# Step 2\n",
        "Run the below code block to mount your google drive, and navigate to the yolov4 folder"
      ],
      "metadata": {
        "id": "ZKZbdvP51gTv"
      }
    },
    {
      "cell_type": "code",
      "execution_count": null,
      "metadata": {
        "id": "hz2l0871zx81"
      },
      "outputs": [],
      "source": [
        "#To mount your google drive\n",
        "%cd ..\n",
        "from google.colab import drive\n",
        "drive.mount('/content/gdrive')\n",
        "\n",
        "# links the path  /content/gdrive/My\\ Drive/ to /mydrive so that it can easily be accesed\n",
        "!ln -s /content/gdrive/My\\ Drive/ /mydrive\n",
        "\n",
        "# list the contents of /mydrive\n",
        "!ls /mydrive\n",
        "\n",
        "#Navigate to the yolov4 folder\n",
        "%cd /mydrive/yolov4"
      ]
    },
    {
      "cell_type": "markdown",
      "source": [
        "# Step 3\n",
        "As mentioned in the report we will be using the yolov4 framework to train our network!\n",
        "\n",
        "To do so we need to clone the darknet repository hosted on github"
      ],
      "metadata": {
        "id": "no4Aw4mf2Jmb"
      }
    },
    {
      "cell_type": "code",
      "source": [
        "!git clone https://github.com/AlexeyAB/darknet"
      ],
      "metadata": {
        "id": "mE6TNYuK2lz-"
      },
      "execution_count": null,
      "outputs": []
    },
    {
      "cell_type": "markdown",
      "source": [
        "# Step 4\n",
        "To run yolov4 on a custom dataset we need the following files\n",
        "\n",
        "\n",
        "1.   The **labelled custom dataset**\n",
        "2.   **Custom cfg file**\n",
        "3.   **obj.data** and **obj.names** files\n",
        "4.   **train.txt** and **test.txt** files for training\n",
        "5.   Place the above files in the correct directories\n"
      ],
      "metadata": {
        "id": "uMZ7R6DL2m-h"
      }
    },
    {
      "cell_type": "markdown",
      "source": [
        "# Step 4.1\n",
        "\n",
        "\n",
        "Download the complete dataset from [Google Drive](https://drive.google.com/drive/folders/15LPTXADcZGv0ZE262yqdwFHDTnP_R_Bx?usp=sharing)\n",
        "\n",
        "Yolov4 requires each **.jpg image** to have a corresponding **.txt file** with the object number and object coordinates of the image in 1 line as shown below\n",
        "```\n",
        "<object-class> <x_center> <y_center> <width> <height>\n",
        "```\n",
        "Where:\n",
        "*   `<object-class>` - integer object number from 0 to 2 (in our case)\n",
        "*   `<x_center> <y_center> <width> <height>` - float values relative to width and height of image, it can be equal from (0.0 to 1.0]\n",
        "*   for example: `<x> = <absolute_x> / <image_width>` or `<height> = <absolute_height> / <image_height>`\n",
        "*   `<x_center> <y_center>` - are center of rectangle (are not top-left corner)\n",
        "\n",
        "The following code generates a .txt file for every image in such a format from the given data"
      ],
      "metadata": {
        "id": "GaYLTNpn3v55"
      }
    },
    {
      "cell_type": "code",
      "source": [
        "import csv\n",
        "from glob import glob\n",
        "from mpl_toolkits.mplot3d import Axes3D\n",
        "import matplotlib.pyplot as plt\n",
        "import numpy as np\n",
        "\n",
        "def rot(n):\n",
        "    n = np.asarray(n).flatten()\n",
        "    assert(n.size == 3)\n",
        "\n",
        "    theta = np.linalg.norm(n)\n",
        "    if theta:\n",
        "        n /= theta\n",
        "        K = np.array([[0, -n[2], n[1]], [n[2], 0, -n[0]], [-n[1], n[0], 0]])\n",
        "\n",
        "        return np.identity(3) + np.sin(theta) * K + (1 - np.cos(theta)) * K @ K\n",
        "    else:\n",
        "        return np.identity(3)\n",
        "\n",
        "\n",
        "def get_bbox(p0, p1):\n",
        "    \"\"\"\n",
        "    Input:\n",
        "    *   p0, p1\n",
        "        (3)\n",
        "        Corners of a bounding box represented in the body frame.\n",
        "\n",
        "    Output:\n",
        "    *   v\n",
        "        (3, 8)\n",
        "        Vertices of the bounding box represented in the body frame.\n",
        "    *   e\n",
        "        (2, 14)\n",
        "        Edges of the bounding box. The first 2 edges indicate the `front` side\n",
        "        of the box.\n",
        "    \"\"\"\n",
        "    v = np.array([\n",
        "        [p0[0], p0[0], p0[0], p0[0], p1[0], p1[0], p1[0], p1[0]],\n",
        "        [p0[1], p0[1], p1[1], p1[1], p0[1], p0[1], p1[1], p1[1]],\n",
        "        [p0[2], p1[2], p0[2], p1[2], p0[2], p1[2], p0[2], p1[2]]\n",
        "    ])\n",
        "    e = np.array([\n",
        "        [2, 3, 0, 0, 3, 3, 0, 1, 2, 3, 4, 4, 7, 7],\n",
        "        [7, 6, 1, 2, 1, 2, 4, 5, 6, 7, 5, 6, 5, 6]\n",
        "    ], dtype=np.uint8)\n",
        "\n",
        "    return v, e\n",
        "\n",
        "classes = (\n",
        "    'Unknown', 'Compacts', 'Sedans', 'SUVs', 'Coupes',\n",
        "    'Muscle', 'SportsClassics', 'Sports', 'Super', 'Motorcycles',\n",
        "    'OffRoad', 'Industrial', 'Utility', 'Vans', 'Cycles',\n",
        "    'Boats', 'Helicopters', 'Planes', 'Service', 'Emergency',\n",
        "    'Military', 'Commercial', 'Trains'\n",
        ")\n",
        "\n",
        "files = glob('/content/drive/MyDrive/ROB535/trainval/*/*_image.jpg')\n",
        "Unknown = ['Unknown','Boats', 'Helicopters', 'Planes', 'Service', 'Emergency','Military', 'Commercial', 'Trains']\n",
        "first = ['Compacts', 'Sedans', 'SUVs', 'Coupes','Muscle', 'SportsClassics', 'Sports', 'Super']\n",
        "second = ['Motorcycles','OffRoad', 'Industrial', 'Utility', 'Vans', 'Cycles']\n",
        "\n",
        "for idx in range(0,len(files)):\n",
        "  snapshot = files[idx]\n",
        "  #print(idx)\n",
        "  img = plt.imread(snapshot)\n",
        "  xyz = np.fromfile(snapshot.replace('_image.jpg', '_cloud.bin'), dtype=np.float32)\n",
        "  xyz = xyz.reshape([3, -1])\n",
        "\n",
        "  proj = np.fromfile(snapshot.replace('_image.jpg', '_proj.bin'), dtype=np.float32)\n",
        "  proj.resize([3, 4])\n",
        "\n",
        "  textfile = snapshot.replace('_image.jpg', '_image.txt')\n",
        "  f= open(textfile,\"w+\")\n",
        "\n",
        "  try:\n",
        "      bbox = np.fromfile(snapshot.replace('_image.jpg', '_bbox.bin'), dtype=np.float32)\n",
        "  except FileNotFoundError:\n",
        "      print('[*] bbox not found.')\n",
        "      bbox = np.array([], dtype=np.float32)\n",
        "  bbox = bbox.reshape([-1, 11])\n",
        "\n",
        "  #fig1 = plt.figure(1, figsize=(16, 9))\n",
        "  #ax1 = fig1.add_subplot(1, 1, 1)\n",
        "  #ax1.imshow(img)\n",
        "\n",
        "  colors = ['C{:d}'.format(i) for i in range(10)]\n",
        "  ptsx =[]\n",
        "  ptsy =[]\n",
        "  for k, b in enumerate(bbox):\n",
        "      R = rot(b[0:3])\n",
        "      t = b[3:6]\n",
        "\n",
        "      sz = b[6:9]\n",
        "      vert_3D, edges = get_bbox(-sz / 2, sz / 2)\n",
        "      vert_3D = R @ vert_3D + t[:, np.newaxis]\n",
        "\n",
        "      vert_2D = proj @ np.vstack([vert_3D, np.ones(vert_3D.shape[1])])\n",
        "      vert_2D = vert_2D / vert_2D[2, :]\n",
        "\n",
        "      clr = colors[np.mod(k, len(colors))]\n",
        "      for e in edges.T:\n",
        "          #ax1.plot(vert_2D[0, e], vert_2D[1, e], color=clr)\n",
        "          #print(vert_2D[0, e], vert_2D[1, e])\n",
        "          ptsx += [vert_2D[0, e]]\n",
        "          ptsy += [vert_2D[1, e]]\n",
        "\n",
        "  xsmall = ptsx[0][0]\n",
        "  xbig = ptsx[0][0]\n",
        "  ysmall = ptsy[0][0]\n",
        "  ybig = ptsy[0][0]\n",
        "\n",
        "  for i in ptsx:\n",
        "    if i[0]>xbig:\n",
        "      xbig = i[0]\n",
        "    if i[1]>xbig:\n",
        "      xbig = i[1]\n",
        "    if i[0]<xsmall:\n",
        "      xsmall = i[0]\n",
        "    if i[1]<xsmall:\n",
        "      xsmall = i[1]\n",
        "\n",
        "  for i in ptsy:\n",
        "    if i[0]>ybig:\n",
        "      ybig = i[0]\n",
        "    if i[1]>ybig:\n",
        "      ybig = i[1]\n",
        "    if i[0]<ysmall:\n",
        "      ysmall = i[0]\n",
        "    if i[1]<ysmall:\n",
        "      ysmall = i[1]\n",
        "\n",
        "  im = Image.open(snapshot)\n",
        "  w, h = im.size\n",
        "\n",
        "  x_center = ((xbig+xsmall)/2)\n",
        "  y_center= ((ybig+ysmall)/2)\n",
        "  width = (xbig-xsmall)\n",
        "  height = (ybig-ysmall)\n",
        "\n",
        "  Unknown = ['Unknown','Boats', 'Helicopters', 'Planes', 'Service', 'Emergency','Military', 'Commercial', 'Trains']\n",
        "  first = ['Compacts', 'Sedans', 'SUVs', 'Coupes','Muscle', 'SportsClassics', 'Sports', 'Super']\n",
        "  second = ['Motorcycles','OffRoad', 'Industrial', 'Utility', 'Vans', 'Cycles']\n",
        "  label = 100\n",
        "  c = classes[int(b[9])]\n",
        "  if c in Unknown:\n",
        "    label = 0\n",
        "  elif c in first:\n",
        "    label = 1\n",
        "  elif c in second:\n",
        "    label = 2\n",
        "\n",
        "  text = str(label)+\" \"+str(x_center/w)+\" \"+str(y_center/h)+\" \"+str(width/w)+\" \"+str(height/h)\n",
        "  #print(text)\n",
        "  f.write(text)\n",
        "  f.close()\n",
        "  #print(label,x_center/w,y_center/h,width/w,height/h)"
      ],
      "metadata": {
        "id": "xvbPdP7s8BGj"
      },
      "execution_count": null,
      "outputs": []
    },
    {
      "cell_type": "markdown",
      "source": [
        "# Step 4.2\n",
        "\n",
        "Download the **yolov4-custom.cfg** file from the **yolov4/darknet/cfg** path\n",
        "\n",
        "The network can easily be tweaked by changing this file as needed. \n",
        "We made the following changes-\n",
        "\n",
        "\n",
        "*   change line batch to batch=64\n",
        "*   change line subdivisions to subdivisions=64\n",
        "*   change line max_batches to 6000 as we are training for 3 classes\n",
        "*   change channels to 3\n",
        "*   change line steps to 80% and 90% of max_batches, f.e. steps=4800,5400\n",
        "*   set network size width=832 height=832\n",
        "*   change line classes=80 to your number of objects in each of 3 [yolo]-layers\n",
        "*   change [filters=255] to filters=243 in the 3 [convolutional] before each [yolo] layer, keep in mind that it only has to be the last [convolutional] before each of the [yolo] layers. \n",
        "*   We also changed the activation function from leaky to Relu for all the convolution layers past the stopbackwards=800 line\n",
        "\n",
        "The custom cfg file we used has been uploaded in github here."
      ],
      "metadata": {
        "id": "TfYurEKF8bM6"
      }
    },
    {
      "cell_type": "markdown",
      "source": [
        "# Step 4.3\n",
        "\n",
        "Yolo also needs 2 files called obj.data and obj.names\n",
        "\n",
        "Copy paste the below into a new file called **obj.data** and save it. This file contains all the data regarding the images and number of classes.\n",
        "\n",
        "```\n",
        "classes = 3\n",
        "train  = data/train.txt\n",
        "valid  = data/test.txt\n",
        "names = data/obj.names\n",
        "backup = /mydrive/yolov4/training\n",
        "```\n",
        "After this create a new file called **obj.names** containing the name of each object class in a new line and save it. In our case it will be as shown below.\n",
        "```\n",
        "0\n",
        "1\n",
        "2\n",
        "```\n",
        "\n",
        "\n"
      ],
      "metadata": {
        "id": "ftjwPcIF_Kid"
      }
    },
    {
      "cell_type": "markdown",
      "source": [
        "# Step 4.4\n",
        "**train.txt** and **test.txt** are the files which contain the path of the training and testing image dataset\n",
        "\n",
        "Run the following code to create the train.txt file. \n",
        "\n",
        "The code essentially puts all the images in the **train.txt** file, so after it runs open the file and cut around 10% of the lines and paste it into a new file called **test.txt**"
      ],
      "metadata": {
        "id": "pO9SsXtmAlwY"
      }
    },
    {
      "cell_type": "code",
      "source": [
        "files = glob('/content/drive/MyDrive/ROB535/trainval/*/*_image.jpg')\n",
        "f= open(\"/content/drive/MyDrive/ROB535/train.txt\",\"w+\")\n",
        "for i in files:\n",
        "  x = i.replace('/content/drive/MyDrive/ROB535', '')\n",
        "  x = \"data\"+x+\"\\n\"\n",
        "  f.write(x)\n",
        "f.close()"
      ],
      "metadata": {
        "id": "8XdqwxPNBrgs"
      },
      "execution_count": null,
      "outputs": []
    },
    {
      "cell_type": "markdown",
      "source": [
        "# Step 4.5\n",
        "After generating all the required files we need to place them into the appropriate directories\n",
        "\n",
        "First we clean the **darkent/data** and **darknet/cfg** folders (this step can be done manually but make sure that you do not delete the label folder in data)"
      ],
      "metadata": {
        "id": "ONJzjllBB3I3"
      }
    },
    {
      "cell_type": "code",
      "source": [
        "# Clean the data and cfg folders first except the labels folder in data which is required\n",
        "\n",
        "%cd darknet/data/\n",
        "!find -maxdepth 1 -type f -exec rm -rf {} \\;\n",
        "%cd ../..\n",
        "\n",
        "%rm -rf cfg/\n",
        "%mkdir cfg"
      ],
      "metadata": {
        "id": "bjTQQk2zCQdZ"
      },
      "execution_count": null,
      "outputs": []
    },
    {
      "cell_type": "markdown",
      "source": [
        "The following items have to be moved to the **data folder** in **darknet/data**\n",
        "\n",
        "\n",
        "*   trainval folder (which was provided and had been modified to contain our labelled data)\n",
        "*   obj.data\n",
        "*   obj.names\n",
        "*   test.txt\n",
        "*   train.txt\n",
        "\n",
        "\n",
        "![pic 1.PNG](data:image/png;base64,iVBORw0KGgoAAAANSUhEUgAAAmMAAAH5CAYAAADN3TnFAAAAAXNSR0IArs4c6QAAAARnQU1BAACxjwv8YQUAAAAJcEhZcwAAEnQAABJ0Ad5mH3gAADYuSURBVHhe7d2Bb1PnvfDx9+9Yd6f2blJ116rTerU7odtOU1c1qyrBHRKad9HeKLswqkwV2S1tRksKZNBkHfj2hXRrTS9KtJJGxe3SdKOhouYOHOi8C2EthEK9lgBtaEJMgwfDNN3vfZ5znmMfO8fESRw/dvr9SI/aHB8f23Fif3nO8cn/EQAAAFhDjAEAAFhEjAEAAFhEjAEAAFhEjAEAAFhEjAEAAFhEjAEAAFhEjAEAAFhEjAEAAFhEjJXL5Ij8z89XyY9+ulNOp80yAACAacxrjL3zX9+Ru76tx/0SPpAxS28svWeNuc535JGXR8zS8sjdn4Jx3xL50arHJPLyUfmotLs51dFtco/ZXrnvdyUNDg6a/1tY3Of+IXmtGp6ayRPStaxyPyvV+5welQ79O9PYK+NmSflV4jaqX7X+DIzuXiE33/IV2fwnswD4nKpQjKnR/KZMP2E0Iq815q4zXzH23aXL5UfLfWPp/bn7ed9yaX/5PZlxk109Kl0htZ3718gbNdpivb29smHDBtm/f79ZsnBUU4yd6WrI/rzNd4xV93P6+Y2x8Zcfqsjzr1Xzz0BZYuxPbc42bm47ahYAtacCMbZcHmzQsaMiZbpXw+GX5EH1ArVsyZJ5eaHyYqwj6Bd/clzO7HtWVt/vrrP8v47OPMhq2KVLl+Tpp592XrQXYpBVTYy9/4LzM65/xub7zbj6n1NibL5jrNp/BogxwFWBGFNvgHuelWXqhefBF4fNJcFOP6MjrEFefnHbvLxQ3TDGPJ+8JR3OLqT7ZePeanr5nn8LOciqIsYmvZnf+2X5svn5B0eh6n5OibH5fv61av4ZIMYAV2VibGRYXm5Q/7/kWTltLptiUr1o3qfWWbNH0n/yx9i4vLFGb+dGx5156yyRrrfNogAlxZjmzV7o+zvpLvJePPV1xwd2ysaGJeYYMe8N3nujNV+P75HHC7YxxSdvysaAddLvvykvPtYgi/X3Q11+z5Ll8vjPX5Aj8/+6XfkXbu/7dN9mOXLVLCtU5HuZPrFHOn66PP/7tKVX3gn4Pt0oxkrazhyeT89H6mdI/8zc81CvHHnpc/JmPJmWM/v8vy8qRH+6Rd54Vx+0UCSUVLQe2fmYrM4ePnC/LA6tkY4970m64PuafV7Pp+X0ni3yePY62+QdZ40bxNjoQQmbf3h5z0Pu5yQtHxXc78UNj8mLA0WeL3Wf33nZf/vqcerjUAvus/c6EjSmfV2aA6s/AyNHpaetUe69UwWTiqZbFy2T1c8dklH1fSkWY6MHn5fVP6yTO3RkOddZLA+29cnxCbOC5kVYwGjYPWpWUiZHZeC5n8q/33unufw2+cYDjbK574RMFPtdBiqsIseM6ReZj17Ux8kUj6XMgc3Oi97GvepFOi/GlLfdmTUn1Nwl+czuzbsaXpKPzKIgJceYZOTQz/W690vE/GPLexF9vPkx8+LsjSIxpu7p/zS72yh2e96HFfwzhh/1rpHvmm1nj21b4r3AL5Pw/vn/932lX7jdGVH1vd0T/Njcnx3f92lyXA79Ynn2efC+T8vNLmb9fWrfm/+mGRhjM9rO7J7PrJFeeUTH3n06HHI/T5WIMc3Km7EKlDfWeD+73vd3mfn5vl8e731paiid75XHve+//mCN/vkPeUHkhuxHvjdQ93ldJRubl7nXyY5pYsw3A/7IS7nna8r27l9W8DuYC7es9FGJ6ONF9eXefc4+Tn2fX5Az5oVrfM+GvO3p8HfXXy4v3uAfkuVg42fg2p/C8sDtJpJuXyQPLF4sDyy6zfn61gfC0vPfBTE2eU56f+KPJrW+us43sttYIT3nzLpHn3e350XWnXXu12o0/97E2Lk+edBEYPb2H1gktzrbV/dhxUtyliBDFahYjHkzC/c8eTDgWCwzs+XNjhTGmJiZNb0LM+B9bro3c0/pMabuUW/+m6X/X7T3rNgmR86bR5EZl7Qzo1MYY7nADH7M3mPKHUuXObpNluv1Q1vkUOHr/bsvuG/mhUExTyr6wn2jmNafPFyS/306/az7Rpn3PBjjA9vkQef7tEyFdO6yoBib6XZm+nzmjKuQ02++6o28N//nqVIxplX2zTitvue+76//YeqZr22rsoHlD6XxfSpW7lPfp64T+bNgn7wnLz/kBow/dr3faT2Wt/TK6eyGxs1zFBBj/hDryv+wTm577mV5s1r7Nju/n/mzuCo4nful4vLFgpk79TgPPel+D5YVHINq4/nXKvozcO4laXAiqk6ad+fPQk2ceEma7zWRpEY2xkb2SvMDt6lI+o0cT5ll2uSEHO9c4UbU0t/IWbPYcYPdlKP9a1UM3iYNnQWzYBPqdWWFG4VLX/Dqbmbe/+CM/Dry3yUPvT5QTOViTL0UHXlSv2htlkOFu6P0rIF+wXrmhPv1lBjLzTpk1/FcPShhZ8bhBru5jJnEmHcf7lIvolo2xpZskSOB03NTYywoJLJOFM72mTfz+x6T/5nyZu7K7DcxYO7TfKvcC3fx3cxTAii7u7DY86Cuo547503TF3dTYmw225nR85mT3uvOpupZnWwrLPQ3Yy+wi35/03LkF+4/oqbOWqXzwiXLe85838dsPDWq58j/ZptVEGNp9bUJsR9tm/ohHW979wR++jt3yIQ3Y+79fC5/tuB1yTPpRXr+PwRsPf9aZX4GrsnABjd2Gl4sEjs61nREqZG3m1KF18Q18/95JqT3J3r9FdLr2ws57TFjExPq3gRI9cmD+nor+sS/uZkoNcgIMUyngjGmmN2NhTNY7m4o36xXQIwVi66ikRagHDH2o66AqTlHQIwp3i62wsfszub5joMbdYP0riUPSXjbNokEjV885L7hL39BKvGrrV+0vRdsPebzXEXBs05TI61wxjKYd71Vzi5BrTDGZrudkp9PT9r7uc2PbJsxVonntKTH9/4L8iO1zpQY064Oy+mBt+SIN46+J+OZt9ywyu6CzP1Oh/cH5pvii7FsiBX/tHT2NeIts6DAma7l7uXmNeSdbWa27rGA31czNv7fqffRdozN+8/A5FHZrGfFbm+TI4GRrF2T2LqAGNMmr8nZtw/JwEFvHJX3RlXgtQWsX8oB/FfOyfHsttT4U1JGrx2Szfp6t6j7aFabjemCjBBDKSobY2JmFvy7o7zZBv8LclCMKVN3R3oBFLz7stBMYqzYbspiL9LFYsyb9ct7zF5Y+g/09uKvpJF7M5ovlQwxR9CsU8D3rtTn0HuTzL5pOtfLPTez3U7Jz6cjLYd+7u7CKvxkro0340o+p6V9fwN2IU4OyxsbcsfxBY/CGMvF8lTmNpY/JI+YENMjeOZr+u1lXwecx+X9zpc2/M+1rRir2M/AiJn1Ur8nN5p1CjqA/2yf3rXoRlexUXKM6WPQ1i7OHiMWPOYWY1qxICPEUKoKx5g3s7BcXn7fLFARol9482YaisTYlDdCsyvknp8HHcMzValvwKK2VuwA/uLXLRJj2dmVJdJlJu/0biu9rbwDvQtm4myqeIgZ3vfY+764Pyv3S3h/7m2z1Odw3mKs1OdTyby1xZnJDPr5rPSbcaWf09K+v4Ux5h1bp75noQ3y8r4T8tEnaUl/Miyn9/VKxyr3sqkxVvg752duw4zvrtks7WY3ZdCpa6bbXnCM3ej2g9mIsYr+DMwyxiZ+/1M3nG5fLM0v7JfjZyZkIjUhZ9/eLz1tP8x+urK0GJuQ11d7HxZYK13q5+ms2tZE6pwc3/eSbP6h90GBuceYVhhkhBhmouIx5h334e5WNMeRFR7vVSzGvPXNbit3pmzqcUbFlPoGPN2pLYIVf2H2dsG5j9l7My9YzwvNCu2CLMZWiDnyZpjMTFnBbJPt3ZRaSc+nvCcvmpmYKX/xQY+CT9O1F+z2LCcbz+lHL62a/vtbuJsyu6u+2HFmXljNLsa+u8b9JKb3QZmg4zNnFmN6ffd5LL6bNNhCj3GZNLsAZ7SbclR6V+ivvy2bDwUe5SVHZrKbcrTPDcK722TgilmW52hZdlP6eUFGiGGmKh9j/gA77w8zn6Ixppjjzu55bINs1G/c/t1F0ygpxoqc9HUuMZbdBacf8wlzYPOUA729A33zZ4LynO+V8M9fCjyPVjlYDTHDO/ZqY4t70PuU00TYPIDfU9LzmT8jM92Yrzdla8/pbA7g9/5B4t9t6ePNNM4qxpbvlDPZKMjIO9vMJz0LdlfONMa8ML+rQf0jKjA60vLOM49J177hwPONVSLG7PwMzOYA/lHpadBfr5CeoG/LFRV4d/vXN4rF2DSzc9cOtcndzu2XL8a0c+eL7jMHirIQY4p6k9MvYMuX6RfE3O6erBvFWDZa3FF4IPWN3DDGpvlzSHOKMeX0s+4bj/unnoJPYJt9879vlUQKTi6ZfrfX7F5Zpu5DkXqYo8q/YAfw3sSdEXSaCP29nNkpKbSgN9nZbMdTyvN5I5V6M7b3nM7i1BbeiZ/1z/hb+T/juedDj1nEWGHgXT0qkYB/dM00xvRjec2ccsM5tcYnZrnme5yF50fTn4x2vjclHmIxF9Z+BmZxaosjbW7A3dt2KP9UFCOHZMsy9zL/+o7kb+QBvXzpb+Q9/3W8DxGo2998yH+2WJV9B8OyNHtcWnljDJgNOzGWPVhbjaCZrRvGmHqZN5+gnLJ7cxre/Zmy26iEPxQ+1xjLi4wpB3rn+E/6GnTCycfNearmg/6Ie+XftAt5u/3UG1Xg+bwUKyd9LVDi81lMpWLM6nM6OSyvFT3pqw6Uh6bMhI2/lvv593bhes9Hdv1yxJgStLtyxjGm+U/6qn5HF4cKHmdI3d/Cfz95u+T15fpxhpZIpOhry9zY/BmYOFT8pK86khpWLHb+PxtXIwEnafVO6nr7CmlwZs4KYkzOSddScx3nxK918qA5A/9oX2PeWfz19rJ/CWCF2p5zGTEG++zEmFLsFAGOaWLM21VZyuks/Lz7M2Xos2brP13y8lH5qMg/U+ccY77ImLLrrdDIW/LiY6tyUaCibPVjOyvy55A++OAD83/2lHosYEX/HNIUM3g+A1QqxjSrz2nAn0PK/Wmj4FBKv5v/fHx36SrZuPMtGffWL1OMBe2unFWMaepxOn+OKfvXAor/Cacs9Xve9ZBZX70GlXrs62xY/Rko+HNIOpj+/T+fFz35H/jnkCZOSK9aPxttvvUDjxnT1HV61i0z4XWnrPbOwK9MnOiTzQ/mzuJ/x70/NH+OqfzHjAGzNa8xNj+8g/hLO50Faow3YzCDYwEBAKhltRdj3u6hYn+nEjXthjOmAAAsQDUXY0XPdI7a5/+U4gyOBQQAoJbVVox5f1qGXVgLkve3N2dzDBYAALWqpmKMXVgLmXfKkuDTWQAAsFDV4AH8AAAACwcxBgAAYBExBgAAYBExBgAAYBExBgAAYBExBgAAYBExBgAAYBExBgAAYBExBgAAYBExBgAAYBExBgAAYBExBgAAYBExBgAAYBExBgAAYBExBgAAYBExBgAAYBExBgAAYFHJMXY6eYbBYDAYDAaDUebBzBgAAIBFxBgAAIBFxBgAAIBFxBgAAIBFxBgAAIBFxBgAAIBFxBgAAIBFxBgAAIBFxBgAAIBFxBgAAIBFxBgAAIBFxBgAAIBFxBgAAIBFxBgAAIBFxBgAAIBFxBgAAIBFxBgAAIBFxBgAAIBFxBgAAIBFxBgAAIBFxBgAAIBFxBgAAIBFxBgAAIBFxBgAAIBFxBgAAIBFxBgAAIBFxBgAAIBFxFgZnTt33vwfAABAaYixMtm9+2W56+5vy389/f/MEgAAgOmVL8ZGXpKGW74iN6vRsHvULDSyl62QnhGzbAHRIaYftzcIMgAAUKp5ibGbb98gsStmubaAY6wwxLxBkAEAgFLMT4ypcXfbUblmLlqoMaaDy3u8oR8sd/675pHm7DKCDAAATGfeYuzmW5ZJV7LwsvwYGz34jDx4753u+nfWyYPbDsnopLkwe502ib39G1m91F3vjqUb5PVz1+Rs3wZZuug2tew2+caK5+W4fyZOZeB7fW3Zbd+6aJk8sTuZi8My8EfX4cNvZcNM/1cfyO9dRpABAIAbmYcY+6E8sW6ZEyK3rugT5+ixgBgbfWWF3KqX3b5YVq/7qSy9042Xe8NmRi17ndvk1tvvlHsX18kdztdq3P1tufuW/GW3bjiUja2zu82289a5TRpeKTiWbZa8ENMH7OsQ0/wxpukg05f7lwEAABSahxhTwZU8KpvvdgPoif0qkabEWFK6Fuuvv+Jerlw7uMEEVJsc0Quy11kskRPOKiJ/ajPr5Gbdru1b62zn5rufkePOgkPyxO16nW/L5kMmz46GVbz51pkDb3ekP8S0whjT/EGmAw4AAKDQ/MSYCq5r+01c3RuWI8nCGAuQvX5hjPmuU7iOpgLNiTFvmff17ep2nRU0FYeF25oFHVc6tgpDTAuKMc0LMh1xAAAAheYtxkRGpadBf/0VWbpug/x7YQxNnJDetkZ5wDnuy13PHXOLMb37M397/rE4dxxbmRWLMU0HGQAAQJB5jDHlxDNyb14MeZedk66l7rJ7H/2NxA4ekoG+NnnAWWduMZb9+l9+KE+Ew7KlYLx+xrlW2d0oxgAAAIqZ3xiTa3KkzT1myh3msuy6P5Sec+6acur58sTYxF5Z7XxdJ5sPTTirOM6o4PNuax4QYwAAYDbmOcaUlIoj54B632WTJ2T7ve6yWxctlgcWL5ZvZNfZIDF93P1sY0zJfZryK3LHvWr73ukzHnhe3jPrlBsxBgAAZmP+Y0wZVXHkBpPvstFDsn3FIieabl20Qrbv+400O+uY47rmEGOacw6zB9zt33z7Iln6n8/LQHnObBGIGAMAALNRvhj7nCPGAADAbBBjZaJPdaH/TiWfnAQAADNBjAEAAFhEjAEAAFhEjAEAAFhEjAEAAFhEjAEAAFhEjAEAAFhEjAEAAFhEjAEAAFhEjAEAAFhEjAEAAFhEjAEAAFhEjAEAAFhEjAEAAFhEjAEAAFhEjAEAAFhEjAEAAFhEjAEAAFhUcoydTp5hMBgMBoPBYJR5MDMGAABgETEGAABgETEGAABgETEGAABgETEGAABgETEGAABgETEGAABgETEGAABgETEGAABgETEGAABgETEGAABgETEGAABgETEGAABgETEGAABgETEGAABgETEGAABgETEGAABgETEGAABgETEGAABgETEGAABgUVXF2Ml3T0nbU2Gp/48Hi46Hmx+XsbGL5hoAAAC1rWpiTAdWUHwFDYIMAAAsFFUTY7999bXA8Co2dJDp65Qy9IwbAABANarZGJvp0Ls/AQAAqs3nJsb0OBg/ZG5tHpzslrq6OmndnzILppfa3+pcp/ukWTBL5doOAACovM9VjOnbmDfEGAAAmAVirFyIMQAAMAvEWLkExdjkiCR2haWpoU5dFpKV6yMSO5sxF+YiqnNfQiLrV0pI/X9oVbv0nUqbNYyrwxLb0SIrQ3o79dKyIybDV81lSlCMpY9HJby63lle19Ak4d1DUrBVAABQBYixcpkSYymJPxVSy1QI9cZlcKBbWnRMhTokMWHWMBGlA6t1R1SiXWFpdoKrRfo/dNeRTFK6V+tlajtd7jpN+jqbYjJiVimMscypbmed0PpuiR9LSP9zzU7oNfUkJZeCAACgGhBj5VIYYx/2S7OOpq4h92tlZJ8bTe0H3HW8iAoP5OasMkciTjg1vpJ0vk4PhJ11WvZ46aW2s6dFLQtl46swxpI9OgJV0F1wv1bXkNjWZmle2yfuVgEAQLUgxsqllGPGCtYJ2r0omUGJqGV65islaUls17NirRLLhpXibWefG2iF20kf7nCCrn5TVOLJEUkzHQYAQNUixsolIMYyZ+PSvbXZHOuVGzeMMRmSbr2eE2MpiW3Kv27e2OXOuk3dTkaG90ekxTlWTY+QrGyLypDZPQoAAKoHMVYuhTE2FpNWHUKrOyV+NiXpdFrSic68dUqfGWuWzgODMnisYJx1d28GR50rkxqWRK85zmxdf/Y4MwAAUB2IsXIp3AV5oN392uxK1DKJjvx1TETd6Jixkb3u8WEdAybyHBlJHssdjJ8fYyMSe1ofHxb1HR/mzbB1S+4INgAAUA2IsXIpnBn7oM+djWpolcjuqER3tGd3VxbG2A0/TXl1yHya0qyjthXZpE9Z0SzRpJtjhTNjOgSdT09u7ZP4sUGJm5mx0PYEp7cAAKDKEGPlEnDMmD7XV/sq/clG9xxj8QPd0qjja8egM6vlRlSr9B+b5jxjaf95xsz5yj7IrVMYY9pIojv/PGO74nnnJgMAANWBGAMAALCoamJM/xHvoIAq5yDGAABAtamaGBsbuygPNz8eGFHlGgAAANWmamJM07Nj8xFkbU+F5eS7p8ytAAAAVI+qijEAAIDPG2IMAADAImIMAADAImIMAADAImIMAADAImIMAADAImIMAADAImIMAADAImIMAADAImIMAADAImIMAADAImIMAADAImIMAADAImIMAADAImIMAADAImIMAADAImIMAADAImIMAADAImIMAADAopJj7OL4JTmdPMNgMBgMBoPBKONgZgwAAMAiYgwAAMAiYgwAAMAiYgwAAMAiYgwAAMAiYgwAAMAiYgwAAMAiYgwAAMAiYgwAAMAiYgwAAMAiYgwAAMAiYgwAAMAiYgwAAMAiYgwAAMAiYgwAAMAiYgwAAMAiYgwAAMAiYgwAAMAiYgwAAMAiYgwAAMCiqoqxk++ekranwlL/Hw8WHQ83Py5jYxfNNQAAAGpb1cSYDqyg+AoaBBkAAFgoqibGfvvqa4HhVWzoINPXKWXoGTcAAIBqVLMxNtOhd38CAABUm89NjOlxMH7I3Fr1G9nXKqG6Juk+lTFLKiElsU11UlfXLUNmCQAAmF+fqxjTtzF/hqS7ToXMpphKmrlLHWgnxgAA+BwgxsqmvDFmBzEGAEClEWNlUqdDzDe6T+qlXqD1Sby3Veqzy5ULCene2uQsqwutlJYdMRm+ai5TUvtbfdtRW9qlt9sq/cfiElm/UkLqstCqdulLmpmzZFQa1bLGV5Lu11pmUCJ6+2v7ZcQsSp/qlw5z/bqGJgnvHpK0uYwYAwCg8oixMhk81idhJ3w6JX5sUIYn9FITY86ol6a1zdKnP9g5Fpf2kFq2Oix9A4MS72lx42p7IhtGwTGmRqhZwl1Rie5w464u5IWTui29TV94ycluZ7vNe9wlmVPd0qRvZ32nxBIJ6f9Vk7PNpmzAEWMAAFQaMVY2QbspzbJQu8QumEXKyJ5mJ4I6j5sFKp9iG3UEtUvcXDk4xhol6pv4GurSy5ql/0Pz9a6Q+rpVYmPu18lXGn2XZ2Rwh15fXZ69L0PS6dy/bnE3S4wBAFBpxFjZ3CDGSjiOzNsN6YVUsd2U3uWaN1uW3fVpZsJa9+tbG5H+tepy/0zZFIXxRYwBAFBpxFjZzCTGMjI80C3hR82xW9kxxxjTt6d3VerdnWMxaVWX5R1DJmkZ6u2Q1tX15va8QYwBAGALMVY2pceYF1pNO+MynEpLOp2WxE4dQXONMb1M76qMSGx/h/qvf7dmRl2md1uGpL13SEbUbabTw9Lv7B4lxgAAsIUYK5tSYywl8ad08Kiwyh67lZHEr8yyOcaYu6syJCE9Q9YYNceCaUl31qyu0xdaw9Knd2USYwAAWEOMlU1Soo06ZJqcTzsmnIPmg2fGhnvdTzHWb4pIdHdUIm3e7soyxFhmUDqd6Jq6izLxKz1rFpLmpzvV7XZKxzpvdyUxBgCALcRYGWVORqWlQcdMvUSdv00eHGPOsVu722WljibnHGNxiffoXYh1Ejninjds1jGmPzW5U0dX/icvHVeHJbajxT0lhj7HWG9C+rfqbXifuCTGAACoNGIMAADAoqqJMf1HvIMCqpyDGAMAANWmamJsbOyiPNz8eGBElWsAAABUm6qJMU3Pjs1HkLU9FZaT7zoHcQEAAFSVqooxAACAzxtiDAAAwCJiDAAAwCJiDAAAwCJiDAAAwCJiDAAAwCJiDAAAwCJiDAAAwCJiDAAAwCJiDAAAwCJiDAAAwCJiDAAAwCJiDAAAwCJiDAAAwCJiDAAAwCJiDAAAwCJiDAAAwCJiDAAAwCJiDAAAwKKSY+zi+CU5nTzDYDAYDAaDwSjjYGYMAADAImIMAADAImIMAADAImIMAADAImIMAADAImIMAADAImIMAADAImIMAADAImIMAADAImIMAADAImIMAADAImIMAADAImIMAADAImIMAADAImIMAADAImIMAADAImIMAADAImIMAADAImIMAADAImIMAADAoqqOsbfPfyoPdU/Ilx65IF94uPhYsn1c3jyZMdcCAACoHVUdY50DV+VrG0blpoAA88a3fjEmi54ck6XPpOTg6YxkPv27uTYAAED1q+oYC7/xV/nimuAI88aGVy/LE72X5TtbLsr3n03JARVk6b8RZAAAoDZUdYxt2ZsODDD/eP7AFXnn/HXZqtb95uYx+UHkkhz+y3WCDAAA1IQFEWOXrn4mFyY+c4LstpZRJ8icXZaTVRZkYzFprauTul1DZkGATFK6V9dJaGNMRsyikpzsljq17db9KbMAAADUggUTY5OfiaSuuEGmZ8hCz6VkIFllB/WXGGPRR0MVirEh6db3Z1NMSDgAAOyo+Rjb9LvL8sf3M3L8/HX587nr8ubQNflx1yW5q31Mnno9bbZUJUqJsdkixgAAqEk1H2N3q+j6Xse4LPt1Kjt0iH1946i0/Pay2VKFpJPSv71FVoZU4NTVS9PWqAz6K8eLsa6YJHaY9UIrpb03KblsNIFU163+r7jM2ZhE1tU7AVa/LiKJfZ1TY2xyRBK7wtLUoLcXkpXrIxI7684Wpva3Ouv7R/dJ5yIlLcm9HdKyKuQsr18dlujxKgtbAAAWiJqPsWLjq+s+rmyMXVURtVpFTahZwl1RiXaFpdmJrXaJj5l1vBjTgbMpItHdnRJ+1A2elj3eTskSYmwsLu3Ots1t7Wg3AeiPsZTEn9LbbpJwb1wGB7qlxblOhyQmVMyNJWXwWJ+E9W2t7ZT4sUEZVsvVJZLsaVLXC0nLThWNiX7p0I9LbSeadDYMAADKiBgrk5G9LU4MhQdyM0iZ453SqJY17jYV48XY1nhuJuzqoER0JDVGxV1r+hhLvtI49bYSHc6ybIx92C/Nejtdua2M7HNnw9oPeMEWsJsyo+6PXuY/Zk09Dn29UA81BgBAuRFjZRJ/SgdUhyTy9uaZ2Fnb74ZN4DFjGRncoa/bKjFnBm26GNMzXgG3VcoxY1PWCYixIPN5rBsAAJ9zxFiZxDYFBdSIxDb6lheJmqFdep3SYyzwtgJiLHM2Lt1bm7O7ML0xbYxNDEnf9lZzrJlvEGMAAJQdMVYmN5wZ83ZBVnJmzLut1Z0SP5uSdDot6UThQf4BMZZRyxrVslC79J0cca/3QT8zYwAAzBNirEzcY8ZC0nHYdxzXPB0zNrKn2bmtyJHcedTSA+G80EodaHe/3pc7W9mU48qCYuxUt4T0Mt+xZnK2zz3+jBgDAKDsiLFymbdPU6YlsV2t49/OREI6nG17n6ZslXqz3WxofdAnTXpZQ6tEdhf7xGVSonoWTH/iUm0n8aFalC7YdleHtHi7K4kxAADKjhgrpxLPM9a6d3AG5xlTMfZcvYoq95QUnsLzjMWPuLsSc6Glrnk8Ku3OucLcc4zFD3Q7M3V1OwbFm1PLnIya2KqX6CmzzL/t1WHpS/SbU2CYDyIAAICyIcaqjomxULfZbQkAABayqo4x/Xcmb1oTHFvTDf0Hw9f31laMjRyOSvS5FveYre0J32wZAABYqKo6xnbGr8gd60dnHGRfVOsvenJMIn+4YrZUG5I97vFjzp83umAWAgCABa2qY+zt89flJ7s+kZubP5abAqKr2LjlZxekqWdCTl341GwJAACgOlV1jAEAACx0xBgAAIBFxBgAAIBFxBgAAIBFxBgAAIBFxBgAAIBFxBgAAIBFxBgAAIBFxBgAAIBFxBgAAIBFxBgAAIBFxBgAAIBFxBgAAIBFxBgAAIBFxBgAAIBFxBgAAIBFxBgAAIBFxBgAAIBFxBgAAIBFJcfYxfFLcjp5hsFgMBgMBoNRxsHMGAAAgEXEGAAAgEXEGAAAgEXEGAAAgEXEGAAAgEXEGAAAgEXEGAAAgEXEGAAAgEXEGAAAgEXEGAAAgEXEGAAAgEXEGAAAgEXEGAAAgEXEGAAAgEXEGAAAgEXEGAAAgEXEGAAAgEXEGAAAgEXEGAAAgEXEGAAAgEVVHWNvn/9UHuqekC89ckG+8HDxsWT7uLx5MmOuBQAAUDuqOsY6B67K1zaMyk0BAeaNb/1iTBY9OSZLn0nJwdMZyXz6d3NtAACA6lfVMRZ+46/yxTXBEeaNDa9elid6L8t3tlyU7z+bkgMqyNJ/I8gAAEBtqOoY27I3HRhg/vH8gSvyzvnrslWt+83NY/KDyCU5/JfrBBkAAKgJCyLGLl39TC5MfOYE2W0to06QObssJ6ssyMZi0lpXJ3W7hsyCAJmkdK+uk9DGmIyYRQAAYOFaMDE2+ZlI6oobZHqGLPRcSgaSVXZQf4kxFn00RIwBAPA5UfMxtul3l+WP72fk+Pnr8udz1+XNoWvy465Lclf7mDz1etpsqUqUEmMAAOBzpeZj7G4VXd/rGJdlv05lhw6xr28clZbfXjZbqpB0Uvq3t8jKkAquunpp2hqVwZS5TPNirCsmiR1mvdBKae9NSi4bh6Rbr1PXrf4vWGp/q7q8TjoPJ6Vva5PU6/UbWiRyuGAu7UJCur3L1e207IjJ8FVzmTK0S99Oq/QlYhJZV+9sM7SqXfqSGcmczS2rXx12luW5Oiwx7zGox1q4bZGMDO+PSMuqkNmuun/7h9VSAADgV/MxVmx8dd3HlY2xqyqiVuvoaZZwV1SiXWFpdmKrXeJjZh0vxnTgbIpIdHenhB91Y6VljxdSpceYjqDWHb7bUmEVy95WXNr1Mh1SA4MS72mRkLpOaHsiG35ujKnR0CqR3Wo7z7nr1DU2SVODeRw7Wt2Ya4xK0lzPO66trq4p+1ib9DqbcrtWUwfanW01/apfEsfiEt2kwy4k7Qf8dQoAAIixMhnZ2+KETXggN8eVOd4pjWpZ426TMV6MbY3nZsKuDkpER1M2dkqPMf9tjexzl0WOuHNPI3uana87jztfKiMS26i3q+LQ9JAbY83Sd9b9Ws9mJX6ll4Wy29HLBne46/V/6C5JD4SdbecCUt+efvwh6T6pv0pJ/Cl9nU4ZnHQuVptRj2ttszQ/l1CXAgAADzFWJm58dEgi10eKCau1/e6MUeAxY17seLNapceYGz4ub1nr/uKp4+2W9GbPCr/Wii/zbi8tie1mnQvOxa6T3c46rfvcQEu+0qS+Dqn46pfBsynJeFEGAADyEGNlEtukA6UwoLzZKLO8yAH8+QFUrhjLyPBAt4QfXenuesyOucZYyjzWIiP72NIytLvdHFOmR9BxZQAAgBgrkxvOjHm7ICs4M+Z93bQzLsOptKTTaUns9N/ObGPMmxlrls4DgzJ4rGCczfsGKBlJXxiS2E5zzNrOQbUEAAB4iLEycY8ZC0nH4VyMzPcxY8VjzDtmS0VVdleidzzYXGPM91gH/LtEM5I8lnRDa3JIovr4sO1x3/Fh5nFtinHMGAAAPsRYuczbpyn1TJRax7edUmbGhnv1MVve7UQl0ubtrpx7jGUfq/dpTr1959OSzRJ1ToGhwqzHPWasZWdMEscS2ZmxpldMmAIAAAcxVk4lnmesde/gDM4zpmLsORU6DR2SmHAWlBRjecdsOecYi0u8p9FZx/uk5KxjTEv7zzMWkpXrIxL7wL+LMi3JvR155xnr6B3yPU4AAKARY1XHxFioO3deLwAAsGBVdYzpvzN505rg2Jpu6D8Yvr63tmJs5LDvxKu+k7MCAICFq6pjbGf8ityxfnTGQfZFtf6iJ8ck8ocrZku1Idnj7tKrXxeRhP8cXgAAYMGq6hh7+/x1+cmuT+Tm5o/lpoDoKjZu+dkFaeqZkFMXPjVbAgAAqE5VHWMAAAALHTEGAABgETEGAABgETEGAABgETEGAABgETEGAABgETEGAABgETEGAABgETEGAABgETEGAABgETEGAABgETEGAABgETEGAABgETEGAABgETEGAABgETEGAABgETEGAABgETEGAABgETEGAABgUckxdnH8kpxOnmEwGAwGg8FglHEwMwYAAGARMQYAAGARMQYAAGARMQYAAGARMQYAAGARMQYAAGARMQYAAGARMQYAAGARMQYAAGARMQYAAGARMQYAAGARMQYAAGARMQYAAGARMQYAAGARMQYAAGARMQYAAGARMQYAAGARMQYAAGARMQYAAGARMQYAAGBRVcfY2+c/lYe6J+RLj1yQLzxcfCzZPi5vnsyYawEAANSOqo6xzoGr8rUNo3JTQIB541u/GJNFT47J0mdScvB0RjKf/t1cGwAAoPpVdYyF3/irfHFNcIR5Y8Orl+WJ3svynS0X5fvPpuSACrL03wgyAABQG6o6xrbsTQcGmH88f+CKvHP+umxV635z85j8IHJJDv/lOkEGAABqwoKIsUtXP5MLE585QXZby6gTZM4uy0mCDAAAVLcFE2OTn4mkrrhBpmfIQs+lZCBZyYP6h6S7rk7qNsUkZZaUS2p/q9SpbXefNAuKKHW9fPN3vwEAwPRqPsY2/e6y/PH9jBw/f13+fO66vDl0TX7cdUnuah+Tp15Pmy1VAjEGAABmruZj7G4VXd/rGJdlv05lhw6xr28clZbfXjZbmn86gvzDH0Tp41EJr653lodWtUv0eH4k+i+va2iS8O4hcdcwoeQfgdFUZL2rQ9LZqP4/1CmDZpIwc7JbGtXloe0JOWvizT9mFnIAAGCuaj7Gio2vrvu4ojE2eKxPwjpo1nZK/NigDE+4y1MH2iWklofWRyS6OyqR9SEVPY3Sedyto8ypbmlyLu9W10tI/3PNzvpNPUnJqCQbVtuKdzU7oRR+bVAGT6XU8kLF10sf7nC217JnRH2VktgmHV2tErugbnssWfR+AwCAyqipGPvy2o/ln1Rk6YP0C4deri+/yZwKo9IxFry7LylRZ2YqIoNXzaKrgxIJ5dZL9ug4a5F+FUeuEYltbZbmtX3q2q657aYckf51+j50SGxfxA29V7wta+ymBADAppqKsW1v/lXOXJx0DtQvHO+PTsov+9NOkFVNjCWjzi7Buq4hs0DzZqc61TVyM1f1m6IST45IOuAzB3M+ZkzdDz37pi+ra1S364WhgxgDAMCmmoox/8H6heNQMuPE1z/+rIpi7GS3G0CBo1ViY3qljAzvj0hLg7c8JCvbojLk21045xjTs2Pr3e03vTZslnmIMQAAbKqpGAs6WN8b/6aW/2vbmPyD+TuWVTUz9nSfDB4bLBhJSRXMgmVSw5LoDbuzWOv6VUK55hpjmeOd7v3QI9QhibzjwogxAABsqqkY++fWUblny0W5Lzx13PPLi3Knutz780lVEWOZQenUx4etjkpy0izTLgzJkHOM2IjEntbHh6nLnQs0bzdmt9qiWTKnGEtKdLWOsIjEE+4nKRt3Dfk+BECMAQBgU03F2Obfp+V/P7gup0Y+nTL07sv1r9rcTWkO1q9rknBXVBIfuktH9ptPUz4als7dUYl2haVZBVro6bhz+grv05ZNW/ucTzPGzcyYPvWEdwIMfVyZjiznE5l7zWkvzHFg7qcuXUHrjexpcZa17teplZbEdv2BgSaJZusv+H4DAIDKWDAxllAxtrHvsnzZWoyJZE5GzbFf9RI9ZRYqqWOF5xEblJRvpmwk0Z1/+a64DOcdZD8i8adXulG3Ne7OYH3Qp6IuJM29/k9GFqyXikuHNzNn1pAP+6VF386mWHY3aLH7DQAA5t+C2k2pL7d3zBgAAMDMVXWM6b8z6Z03bKZDn3tsfS8xBgAAqltVx9jO+BW5Y/3ojINMH8S/6MkxifzhitkSAABAdarqGHv7/HX5ya5P5Obmj+WmgOgqNm752QVp6pmQUxc+NVsCAACoTlUdYwAAAAsdMQYAAGARMQYAAGARMQYAAGARMQYAAGARMQYAAGARMQYAAGARMQYAAGARMQYAAGARMQYAAGARMQYAAGARMQYAAGARMQYAAGARMQYAAGARMQYAAGARMQYAAGARMQYAAGARMQYAAGARMQYAAGBRyTF2cfySnE6eYTAYDAaDwWCUcTAzBgAAYBExBgAAYBExBgAAYBExBgAAYBExBgAAYBExBgAAYBExBgAAYBExBgAAYBExBgAAYBExBgAAYBExBgAAYBExBgAAYBExBgAAYBExBgAAYBExBgAAYBExBgAAYBExBgAAYBExBgAAYBExBgAAYBExBgAAYFFVx9jb5z+Vh7on5EuPXJAvPFx8LNk+Lm+ezJhrAQAA1I6qjrHOgavytQ2jclNAgHnjW78Yk0VPjsnSZ1Jy8HRGMp/+3VwbAACg+lV1jIXf+Kt8cU1whHljw6uX5Yney/KdLRfl+8+m5IAKsvTfCDIAAFAbqjrGtuxNBwaYfzx/4Iq8c/66bFXrfnPzmPwgckkO/+U6QQYAAGrCgoixS1c/kwsTnzlBdlvLqBNkzi7LydoNspF9rRKqa5LuUxwLBwDAQrZgYmzyM5HUFTfI9AxZ6LmUDCQrGTJD0l1XJ3WbYpIyS+YidaC9LDGW2t8qdep+dZ80C0pS3scCAACKq/kY2/S7y/LH9zNy/Px1+fO56/Lm0DX5cdcluat9TJ56PW22VAnVGTDEGAAA1a3mY+xuFV3f6xiXZb9OZYcOsa9vHJWW3142W5p/Onj8w40fL2r6JN7bKvXZ5cqFhHRvbXKW1YVWSsuOmAxfNZcphRE1tEtvt1X6j8Ulsn6lhNRloVXt0ld09s/ctn/ouLo6JJ2N6v9DnTJorpo52S2NenvbE3LW3K5/zCzkAADATNR8jBUbX133cUVjbPBYn4R1vKztlPixQRme0Ev9QVQvTWubpe+UWjwWl/aQWrY6LH0DgxLvaXHjSsWQN5cXHGNqhJol3BWV6A437upC3epWgqRlWN2PeFezc73wa4MyeColur/Shzuc22vZM6K+Sklsk952q8QuqDAbSxZ5LAAAYD7UVIx9ee3H8k8qsvRB+oVDL9eX32ROhVHpGMvNgvl37ZlloXYndDwje9xA6jxuFsiIxDbqIGqXuLlycIw1SjTpfq0NdellzdL/oVkQIHg35Yj0r9P3q0Ni+yJOmDW94ttw4GMBAADzoaZibNubf5UzFyedA/ULx/ujk/LL/rQTZFUXYyVEjbcbMjbmfl1sN6V3uebNlt1oN2JwjCnJqDTp+6ZHY6cM+XaRzuR+AwCAuampGPMfrF84DiUzTnz9489qIcYyMjzQLeFH3WO/nCByRgVjTM+OrXev3/TasFnmIcYAAKiUmoqxoIP1vfFvavm/to3JP5i/Y1nNMeYFUtPOuAyn0pJOpyWxU4dR5WIsc7zTOWhfX6Z3VybyjgsjxgAAqJSairF/bh2Ve7ZclPvCU8c9v7wod6rLvT+fVL0xlpL4UzqCVFhljyPLSOJXZllFYiwp0dXquqGIxBPuJykbdw05B/e7iDEAACqlpmJs8+/T8r8fXJdTI59OGXr35fpXbe6mVIGjTxlR1+R82jHhHFQfHDXDvU1OINVvikh0d1Qibd7uyrnFmPspyZC0H8jdml6m1wmtV7e1d8j5tObInhZnWet+vV5aEttD6usm34cDgh4LAACYDwsmxhIqxjb2XZYvW4sxfb6uqLQ06Iipl6g+hUXRGaa0DO1ul5X69BbOOcbiEu9pdAIpcsSdn5pVjCUiUq9uuyPhP9ntiMSfNucl2xqXVCouHc5pNaIquYwP+6XF3E99sgtt6mMBAADzYUHtptSX2ztmDAAAYOaqOsb035n0zhs206HPPba+lxgDAADVrapjbGf8ityxfnTGQaYP4l/05JhE/nDFbAkAAKA6VXWMvX3+uvxk1ydyc/PHclNAdBUbt/zsgjT1TMipC5+aLQEAAFSnqo4xAACAhY4YAwAAsIgYAwAAsIgYAwAAsIgYAwAAsIgYAwAAsIgYAwAAsIgYAwAAsIgYAwAAsIgYAwAAsIgYAwAAsIgYAwAAsIgYAwAAsIgYAwAAsIgYAwAAsIgYAwAAsIgYAwAAsIgYAwAAsIgYAwAAsKjkGLs4fklOJ88wGAwGg8FgMMo4mBkDAACwiBgDAACwiBgDAACwiBgDAACwiBgDAACwiBgDAACwiBgDAACwiBgDAACwiBgDAACwiBgDAACwiBgDAACwiBgDAACwiBgDAACwiBgDAACwiBgDAACwiBgDAACwiBgDAACwiBgDAACwiBgDAACwiBgDAACwiBgDAACwiBgDAACwiBgDAACwiBgDAACwiBgDAACwiBgDAACwiBgDAACwiBgDAACwiBgDAACwiBgDAACwiBgDAACwiBgDAACwiBgDAACwiBgDAACwiBgDAACwRuT/A0mCT2HZEpb7AAAAAElFTkSuQmCC)\n",
        "\n",
        "Also move the **yolov4-custom.cfg** file to the **darknet/cfg folder** as shown below \n",
        "![image.png](data:image/png;base64,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)"
      ],
      "metadata": {
        "id": "7mRf8tWpChUt"
      }
    },
    {
      "cell_type": "markdown",
      "source": [
        "# Step 5\n",
        "Modify the change runtime type to use GPU under the runtime tab in google colab\n",
        "\n",
        "Next run the below code to enable the GPU, nvidia CUDA and OpenCV\n"
      ],
      "metadata": {
        "id": "mcHLXPeOEVvC"
      }
    },
    {
      "cell_type": "code",
      "source": [
        "# change makefile to have GPU and OPENCV enabled\n",
        "# also set CUDNN, CUDNN_HALF and LIBSO to 1\n",
        "\n",
        "%cd darknet/\n",
        "!sed -i 's/OPENCV=0/OPENCV=1/' Makefile\n",
        "!sed -i 's/GPU=0/GPU=1/' Makefile\n",
        "!sed -i 's/CUDNN=0/CUDNN=1/' Makefile\n",
        "!sed -i 's/CUDNN_HALF=0/CUDNN_HALF=1/' Makefile\n",
        "!sed -i 's/LIBSO=0/LIBSO=1/' Makefile"
      ],
      "metadata": {
        "id": "DAbygTXnEs1r"
      },
      "execution_count": null,
      "outputs": []
    },
    {
      "cell_type": "markdown",
      "source": [
        "# Step 6\n",
        "Build the darknet folder so that we can start training"
      ],
      "metadata": {
        "id": "P1Ug_0XDE1Wz"
      }
    },
    {
      "cell_type": "code",
      "source": [
        "!make"
      ],
      "metadata": {
        "id": "IPA1METtE9xd"
      },
      "execution_count": null,
      "outputs": []
    },
    {
      "cell_type": "markdown",
      "source": [
        "# Step 7\n",
        "Ideally we can start training the network now, but since the dataset is very big it will take a few days to complete training. To avoid this we can download pretrained weights and train on that.\n"
      ],
      "metadata": {
        "id": "OcDdIJhBFJ05"
      }
    },
    {
      "cell_type": "code",
      "source": [
        "# Download the yolov4 pre-trained weights file\n",
        "!wget https://github.com/AlexeyAB/darknet/releases/download/darknet_yolo_v3_optimal/yolov4.conv.137"
      ],
      "metadata": {
        "id": "0t61sVSaFffD"
      },
      "execution_count": null,
      "outputs": []
    },
    {
      "cell_type": "markdown",
      "source": [
        "# Step 8\n",
        "We can finally start training the model using pretrained weights with the following command"
      ],
      "metadata": {
        "id": "IqUULfXsFiya"
      }
    },
    {
      "cell_type": "code",
      "source": [
        "# to train!!\n",
        "!./darknet detector train data/obj.data cfg/yolov4-custom.cfg yolov4.conv.137 -dont_show -map"
      ],
      "metadata": {
        "id": "Hi4zU3VuFxot"
      },
      "execution_count": null,
      "outputs": []
    },
    {
      "cell_type": "markdown",
      "source": [
        "Training usually takes around 24-36 hours. Colab will disconnect in the middle. If that happens you need not run the whole training model from the begenning, yolo saves the updated weights every hundred iterations in the backup folder (which we gave as yolov4/training). We can resume our training from there. But before that make sure you run Step 5 and Step 6 before the next command"
      ],
      "metadata": {
        "id": "P0RyykJUF7i2"
      }
    },
    {
      "cell_type": "code",
      "source": [
        "#to restart training your custom detector where you left off(using the weights that were saved last)\n",
        "\n",
        "!./darknet detector train data/obj.data cfg/yolov4-custom.cfg /mydrive/yolov4/training/yolov4-custom_last.weights -dont_show -map"
      ],
      "metadata": {
        "id": "jDDrz3CCGhSL"
      },
      "execution_count": null,
      "outputs": []
    },
    {
      "cell_type": "markdown",
      "source": [
        "# Step 9\n",
        "Once the model has been trained we can test it on the data we had in the test folder. Before that we need to create a file containing the path to the images we want to test on. Here we call it **test.txt**.\n",
        "Run the following code to do that -"
      ],
      "metadata": {
        "id": "wQPl6H3wGu_5"
      }
    },
    {
      "cell_type": "code",
      "source": [
        "from glob import glob\n",
        "from mpl_toolkits.mplot3d import Axes3D\n",
        "import matplotlib.pyplot as plt\n",
        "import numpy as np\n",
        "\n",
        "files = glob('/content/drive/MyDrive/ROB535/test/*/*_image.jpg')\n",
        "f= open(\"/content/drive/MyDrive/test.txt\",\"w+\")\n",
        "for i in files:\n",
        "  x = i.replace('drive', 'gdrive')\n",
        "  x = x+\"\\n\"\n",
        "  f.write(x)\n",
        "f.close()"
      ],
      "metadata": {
        "id": "naPOnJPEHLAA"
      },
      "execution_count": null,
      "outputs": []
    },
    {
      "cell_type": "markdown",
      "source": [
        "Next we make changes to our custom cfg file.\n",
        "*   change batch to equal 1\n",
        "*   change subdivisions to equal 1\n",
        "\n",
        "The code below does this for us-"
      ],
      "metadata": {
        "id": "RhwsNLVjHXov"
      }
    },
    {
      "cell_type": "code",
      "source": [
        "#set your custom cfg to test mode \n",
        "%cd cfg\n",
        "!sed -i 's/batch=64/batch=1/' yolov4-custom.cfg\n",
        "!sed -i 's/subdivisions=64/subdivisions=1/' yolov4-custom.cfg\n",
        "%cd .."
      ],
      "metadata": {
        "id": "eBcXGxWNH1ql"
      },
      "execution_count": null,
      "outputs": []
    },
    {
      "cell_type": "markdown",
      "source": [
        "Next we run the model on all the images that are on the test.txt file."
      ],
      "metadata": {
        "id": "w8bAwzwNH7HT"
      }
    },
    {
      "cell_type": "code",
      "source": [
        "!./darknet detector test data/obj.data cfg/yolov4-custom.cfg /mydrive/yolov4/training/yolov4-custom_best.weights -ext_output -dont_show -out result.json < /content/gdrive/MyDrive/test.txt"
      ],
      "metadata": {
        "id": "MH7u4zwxIHyp"
      },
      "execution_count": null,
      "outputs": []
    },
    {
      "cell_type": "markdown",
      "source": [
        "This saves our results in a file called **result.json**. Run the following code block to download the file."
      ],
      "metadata": {
        "id": "Q_hSQO57IKpK"
      }
    },
    {
      "cell_type": "code",
      "source": [
        "def download(path):\n",
        "  from google.colab import files\n",
        "  files.download(path)\n",
        "  \n",
        "download('result.json')"
      ],
      "metadata": {
        "id": "4KxYdVGYIRni"
      },
      "execution_count": null,
      "outputs": []
    },
    {
      "cell_type": "markdown",
      "source": [
        "# Step 10\n",
        "Run the json file through the matlab script provided here to generate the required csv file which can then be uploaded to kaggle!!"
      ],
      "metadata": {
        "id": "xjUd0rKdIlI9"
      }
    }
  ]
}